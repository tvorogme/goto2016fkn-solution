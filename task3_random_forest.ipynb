{
 "cells": [
  {
   "cell_type": "markdown",
   "metadata": {},
   "source": [
    "### Just imports"
   ]
  },
  {
   "cell_type": "code",
   "execution_count": 1,
   "metadata": {
    "collapsed": false
   },
   "outputs": [],
   "source": [
    "import pandas as pd\n",
    "import numpy as np\n",
    "import json\n",
    "from collections import defaultdict\n",
    "from math import sqrt\n",
    "import matplotlib.pyplot as plt\n",
    "from sklearn.ensemble import RandomForestClassifier\n",
    "from collections import Counter\n",
    "%matplotlib inline"
   ]
  },
  {
   "cell_type": "markdown",
   "metadata": {},
   "source": [
    "# Задача 3\n",
    "Ваша основная цель – научиться рекомендовать пользователям фильмы так, чтобы они им нравились."
   ]
  },
  {
   "cell_type": "code",
   "execution_count": 2,
   "metadata": {
    "collapsed": false
   },
   "outputs": [],
   "source": [
    "# Лайки\n",
    "train_likes_df = pd.read_csv('train_likes.csv')\n",
    "# Время и каналы\n",
    "schedule_df = pd.read_csv('schedule.csv')"
   ]
  },
  {
   "cell_type": "code",
   "execution_count": 3,
   "metadata": {
    "collapsed": true
   },
   "outputs": [],
   "source": [
    "# Фичи\n",
    "with open('items.json') as f:\n",
    "    items_dicts = json.load(f)"
   ]
  },
  {
   "cell_type": "code",
   "execution_count": 4,
   "metadata": {
    "collapsed": false
   },
   "outputs": [],
   "source": [
    "# Преобразуем фичи в {id: features} из [{},{}]\n",
    "features = {}\n",
    "for item in items_dicts:\n",
    "    features_item = item.copy()\n",
    "    del features_item['id']\n",
    "    features[item['id']] = features_item"
   ]
  },
  {
   "cell_type": "code",
   "execution_count": 5,
   "metadata": {
    "collapsed": false
   },
   "outputs": [],
   "source": [
    "# Оставим только те лайки, о которых у нас есть информация (фичи)\n",
    "train_likes_df = train_likes_df[train_likes_df.item_id.isin(features.keys())]\n",
    "train_likes_df = train_likes_df[train_likes_df.item_id.isin(schedule_df.item_id)]\n",
    "schedule_df = schedule_df[schedule_df.item_id.isin(train_likes_df.item_id)]"
   ]
  },
  {
   "cell_type": "code",
   "execution_count": 6,
   "metadata": {
    "collapsed": false
   },
   "outputs": [],
   "source": [
    "# Делаем словарь id_channel: бинарная нумерация\n",
    "# Бинарная, потому что мы используем random_forest и если мы оставим просто нумерацию\n",
    "# То он будет говорить >номера_канала <номера_канала\n",
    "# А это бессмыслено\n",
    "max_id = max(enumerate(set(schedule_df.channel)))[0]\n",
    "channels_to_id = {}\n",
    "for a,b in enumerate(set(schedule_df.channel)):\n",
    "    channels_to_id[b] = a/max_id"
   ]
  },
  {
   "cell_type": "code",
   "execution_count": 7,
   "metadata": {
    "collapsed": false
   },
   "outputs": [
    {
     "data": {
      "text/html": [
       "<div>\n",
       "<table border=\"1\" class=\"dataframe\">\n",
       "  <thead>\n",
       "    <tr style=\"text-align: right;\">\n",
       "      <th></th>\n",
       "      <th>time_end</th>\n",
       "      <th>time_start</th>\n",
       "      <th>item_id</th>\n",
       "      <th>channel</th>\n",
       "    </tr>\n",
       "  </thead>\n",
       "  <tbody>\n",
       "    <tr>\n",
       "      <th>0</th>\n",
       "      <td>1.457357e+09</td>\n",
       "      <td>1.457354e+09</td>\n",
       "      <td>84868d868783ee3a41b963a2fb2629ec</td>\n",
       "      <td>02522a2b2726fb0a03bb19f2d8d9524d</td>\n",
       "    </tr>\n",
       "    <tr>\n",
       "      <th>1</th>\n",
       "      <td>1.457360e+09</td>\n",
       "      <td>1.457357e+09</td>\n",
       "      <td>84868d868783ee3a41b963a2fb2629ec</td>\n",
       "      <td>02522a2b2726fb0a03bb19f2d8d9524d</td>\n",
       "    </tr>\n",
       "    <tr>\n",
       "      <th>2</th>\n",
       "      <td>1.457371e+09</td>\n",
       "      <td>1.457369e+09</td>\n",
       "      <td>574629dcccbf0f871e9eec4ef14ff270</td>\n",
       "      <td>02522a2b2726fb0a03bb19f2d8d9524d</td>\n",
       "    </tr>\n",
       "    <tr>\n",
       "      <th>4</th>\n",
       "      <td>1.458465e+09</td>\n",
       "      <td>1.458462e+09</td>\n",
       "      <td>6d38003a9c000dd30e05edad1559b711</td>\n",
       "      <td>43baa6762fa81bb43b39c62553b2970d</td>\n",
       "    </tr>\n",
       "    <tr>\n",
       "      <th>5</th>\n",
       "      <td>1.457303e+09</td>\n",
       "      <td>1.457301e+09</td>\n",
       "      <td>574629dcccbf0f871e9eec4ef14ff270</td>\n",
       "      <td>7f1de29e6da19d22b51c68001e7e0e54</td>\n",
       "    </tr>\n",
       "  </tbody>\n",
       "</table>\n",
       "</div>"
      ],
      "text/plain": [
       "       time_end    time_start                           item_id  \\\n",
       "0  1.457357e+09  1.457354e+09  84868d868783ee3a41b963a2fb2629ec   \n",
       "1  1.457360e+09  1.457357e+09  84868d868783ee3a41b963a2fb2629ec   \n",
       "2  1.457371e+09  1.457369e+09  574629dcccbf0f871e9eec4ef14ff270   \n",
       "4  1.458465e+09  1.458462e+09  6d38003a9c000dd30e05edad1559b711   \n",
       "5  1.457303e+09  1.457301e+09  574629dcccbf0f871e9eec4ef14ff270   \n",
       "\n",
       "                            channel  \n",
       "0  02522a2b2726fb0a03bb19f2d8d9524d  \n",
       "1  02522a2b2726fb0a03bb19f2d8d9524d  \n",
       "2  02522a2b2726fb0a03bb19f2d8d9524d  \n",
       "4  43baa6762fa81bb43b39c62553b2970d  \n",
       "5  7f1de29e6da19d22b51c68001e7e0e54  "
      ]
     },
     "execution_count": 7,
     "metadata": {},
     "output_type": "execute_result"
    }
   ],
   "source": [
    "# Посмотрим, что у нас есть.\n",
    "schedule_df.head()"
   ]
  },
  {
   "cell_type": "code",
   "execution_count": 8,
   "metadata": {
    "collapsed": false
   },
   "outputs": [
    {
     "data": {
      "text/html": [
       "<div>\n",
       "<table border=\"1\" class=\"dataframe\">\n",
       "  <thead>\n",
       "    <tr style=\"text-align: right;\">\n",
       "      <th></th>\n",
       "      <th>user_id</th>\n",
       "      <th>item_id</th>\n",
       "      <th>channel</th>\n",
       "      <th>time</th>\n",
       "    </tr>\n",
       "  </thead>\n",
       "  <tbody>\n",
       "    <tr>\n",
       "      <th>1</th>\n",
       "      <td>71a7f1d1be96603971ba66e4a17e845c</td>\n",
       "      <td>5edaf734b432e5cc954a10b59cb97e70</td>\n",
       "      <td>ec5decca5ed3d6b8079e2e7e7bacc9f2</td>\n",
       "      <td>1.390459e+09</td>\n",
       "    </tr>\n",
       "    <tr>\n",
       "      <th>3</th>\n",
       "      <td>5d9db6ab742755197343505bccfad516</td>\n",
       "      <td>aa5f2ca699da42e467e550f9f071fb3f</td>\n",
       "      <td>98f13708210194c475687be6106a3b84</td>\n",
       "      <td>1.391053e+09</td>\n",
       "    </tr>\n",
       "    <tr>\n",
       "      <th>5</th>\n",
       "      <td>64f9455a021ac68be70548767bc0fe84</td>\n",
       "      <td>e1cdbda92a8167c8a6c994872fd32b3e</td>\n",
       "      <td>1f0e3dad99908345f7439f8ffabdffc4</td>\n",
       "      <td>1.392539e+09</td>\n",
       "    </tr>\n",
       "    <tr>\n",
       "      <th>6</th>\n",
       "      <td>70a2805f307f49ec42d4309190daa587</td>\n",
       "      <td>e1cdbda92a8167c8a6c994872fd32b3e</td>\n",
       "      <td>5ef059938ba799aaa845e1c2e8a762bd</td>\n",
       "      <td>1.392611e+09</td>\n",
       "    </tr>\n",
       "    <tr>\n",
       "      <th>7</th>\n",
       "      <td>560a8a1743aea7f6cbb63b315172b2ab</td>\n",
       "      <td>0ccd2d96eb4b393ecb8cf4e55a6544b6</td>\n",
       "      <td>98f13708210194c475687be6106a3b84</td>\n",
       "      <td>1.392958e+09</td>\n",
       "    </tr>\n",
       "  </tbody>\n",
       "</table>\n",
       "</div>"
      ],
      "text/plain": [
       "                            user_id                           item_id  \\\n",
       "1  71a7f1d1be96603971ba66e4a17e845c  5edaf734b432e5cc954a10b59cb97e70   \n",
       "3  5d9db6ab742755197343505bccfad516  aa5f2ca699da42e467e550f9f071fb3f   \n",
       "5  64f9455a021ac68be70548767bc0fe84  e1cdbda92a8167c8a6c994872fd32b3e   \n",
       "6  70a2805f307f49ec42d4309190daa587  e1cdbda92a8167c8a6c994872fd32b3e   \n",
       "7  560a8a1743aea7f6cbb63b315172b2ab  0ccd2d96eb4b393ecb8cf4e55a6544b6   \n",
       "\n",
       "                            channel          time  \n",
       "1  ec5decca5ed3d6b8079e2e7e7bacc9f2  1.390459e+09  \n",
       "3  98f13708210194c475687be6106a3b84  1.391053e+09  \n",
       "5  1f0e3dad99908345f7439f8ffabdffc4  1.392539e+09  \n",
       "6  5ef059938ba799aaa845e1c2e8a762bd  1.392611e+09  \n",
       "7  98f13708210194c475687be6106a3b84  1.392958e+09  "
      ]
     },
     "execution_count": 8,
     "metadata": {},
     "output_type": "execute_result"
    }
   ],
   "source": [
    "# Посмотрим, что у нас есть.\n",
    "train_likes_df.head()"
   ]
  },
  {
   "cell_type": "markdown",
   "metadata": {},
   "source": [
    "# Метрика\n",
    "Самое важно, что нам нужно в первую очередь - это метрика, а то не понятно, что оптимизировать.\n",
    "\n",
    "Не знаю на сколько это плохо брать чужие реализации, но раз мы питонисты...\n",
    "Реализация взята [тут](https://github.com/benhamner/Metrics/blob/master/Python/ml_metrics/average_precision.py)"
   ]
  },
  {
   "cell_type": "code",
   "execution_count": 9,
   "metadata": {
    "collapsed": false
   },
   "outputs": [],
   "source": [
    "def apk(actual, predicted, k=10):\n",
    "    \"\"\"\n",
    "    Computes the average precision at k.\n",
    "    This function computes the average prescision at k between two lists of\n",
    "    items.\n",
    "    Parameters\n",
    "    ----------\n",
    "    actual : list\n",
    "             A list of elements that are to be predicted (order doesn't matter)\n",
    "    predicted : list\n",
    "                A list of predicted elements (order does matter)\n",
    "    k : int, optional\n",
    "        The maximum number of predicted elements\n",
    "    Returns\n",
    "    -------\n",
    "    score : double\n",
    "            The average precision at k over the input lists\n",
    "    \"\"\"\n",
    "    if len(predicted)>k:\n",
    "        predicted = predicted[:k]\n",
    "\n",
    "    score = 0.0\n",
    "    num_hits = 0.0\n",
    "\n",
    "    for i,p in enumerate(predicted):\n",
    "        if p in actual and p not in predicted[:i]:\n",
    "            num_hits += 1.0\n",
    "            score += num_hits / (i+1.0)\n",
    "\n",
    "    if not actual:\n",
    "        return 0.0\n",
    "\n",
    "    return score / min(len(actual), k)"
   ]
  },
  {
   "cell_type": "code",
   "execution_count": 10,
   "metadata": {
    "collapsed": false
   },
   "outputs": [
    {
     "name": "stdout",
     "output_type": "stream",
     "text": [
      "0 11623\n",
      "1000 11623\n",
      "2000 11623\n",
      "3000 11623\n",
      "4000 11623\n",
      "5000 11623\n",
      "6000 11623\n",
      "7000 11623\n",
      "8000 11623\n",
      "9000 11623\n",
      "10000 11623\n",
      "11000 11623\n"
     ]
    }
   ],
   "source": [
    "# Тут мы делаем словарь {id_film: пользователи, которые его лайкают}\n",
    "items = dict()\n",
    "a = 0\n",
    "b = len(set(train_likes_df.item_id.values))\n",
    "\n",
    "for _id in set(train_likes_df.item_id.values):\n",
    "    if a % 1000 == 0: print(a,b)\n",
    "    a+=1\n",
    "    items[_id] = set(train_likes_df[train_likes_df.item_id == _id].user_id.values)"
   ]
  },
  {
   "cell_type": "code",
   "execution_count": 11,
   "metadata": {
    "collapsed": true
   },
   "outputs": [],
   "source": [
    "# Это матрица схожести, основанная на словаре сверху\n",
    "# Она нам нужна, чтобы учитывать других пользователей для рекомендации\n",
    "class OtiaiMatrix():\n",
    "    def __init__(self, items):\n",
    "        self.items = items\n",
    "  \n",
    "    def __getitem__(self, keys):\n",
    "        a = self.items[keys[0]]\n",
    "        b = self.items[keys[1]]\n",
    "        if sqrt(len(a)*len(b)) != 0:\n",
    "            return len(a & b)/sqrt(len(a)*len(b))\n",
    "        else:\n",
    "            return len(a & b)"
   ]
  },
  {
   "cell_type": "code",
   "execution_count": 12,
   "metadata": {
    "collapsed": true
   },
   "outputs": [],
   "source": [
    "# Создаём матрицу.\n",
    "matrix = OtiaiMatrix(items)"
   ]
  },
  {
   "cell_type": "code",
   "execution_count": 13,
   "metadata": {
    "collapsed": true
   },
   "outputs": [],
   "source": [
    "# Из названий, думаю, ясно\n",
    "# Словари - потому что нам нужно рекомендовать пользователю очень быстро, а\n",
    "# Pandas не очень быстрый =)\n",
    "time_end = dict(zip(schedule_df.item_id.values, schedule_df.time_end.values))\n",
    "time_start = dict(zip(schedule_df.item_id.values, schedule_df.time_start.values))\n",
    "item_chennel = dict(zip(schedule_df.item_id.values, schedule_df.channel.values))"
   ]
  },
  {
   "cell_type": "code",
   "execution_count": 14,
   "metadata": {
    "collapsed": false
   },
   "outputs": [],
   "source": [
    "# Жанр\n",
    "# Год\n",
    "# Кол-во фичей\n",
    "# Продолжительность\n",
    "# Время, когда фильм заканчивается\n",
    "# Время, когда фильм начинается\n",
    "# Канал\n",
    "\n",
    "\n",
    "def id_to_feature(_id):\n",
    "    '''Фичи для каждого фильма по отдельности'''\n",
    "    feature = features[_id]\n",
    "    return [feature['genre'], feature['year'], feature['duration'], \n",
    "            len(feature), max(feature.values()),\n",
    "            time_end[_id], time_start[_id], channels_to_id[item_chennel[_id]]]"
   ]
  },
  {
   "cell_type": "code",
   "execution_count": 15,
   "metadata": {
    "collapsed": false
   },
   "outputs": [],
   "source": [
    "# Коэффициент схожести\n",
    "# Длина пересечения фичей\n",
    "# Длина исключения фичей\n",
    "\n",
    "def ids_to_feature(row):\n",
    "    '''Фичи для группы фильмов'''\n",
    "    global features\n",
    "    \n",
    "    features_out = []\n",
    "    otiai = []\n",
    "    \n",
    "    for _id in row[:-1]:\n",
    "        otiai.append(matrix[_id, row[-1]])\n",
    "        features_out.append(len(set(features[_id]) & set(features[row[-1]])))\n",
    "        features_out.append(len(set(features[_id]) ^ set(features[row[-1]])))\n",
    "    \n",
    "    features_out += otiai\n",
    "    return features_out"
   ]
  },
  {
   "cell_type": "code",
   "execution_count": 16,
   "metadata": {
    "collapsed": true
   },
   "outputs": [],
   "source": [
    "# Эта функция просто обёртка для двух функций выше\n",
    "def get_features(row):\n",
    "    '''Get features for row'''\n",
    "    features_id = []\n",
    "    \n",
    "    for _id in row:\n",
    "        features_id += id_to_feature(_id)\n",
    "    \n",
    "    features_row = ids_to_feature(row)\n",
    "    return features_id + features_row"
   ]
  },
  {
   "cell_type": "code",
   "execution_count": 17,
   "metadata": {
    "collapsed": false
   },
   "outputs": [],
   "source": [
    "import random\n",
    "\n",
    "\n",
    "def create_data(n: int=4, test_len: int=10):\n",
    "    global train_likes_df, schedule_df, features\n",
    "    print('Get ids')\n",
    "    # Возьмём все id людей, которые пролайкали минимум n фильмов\n",
    "    ids = [i for i, count in Counter(train_likes_df.user_id).most_common() if count >= n]\n",
    "    \n",
    "    print('Get films ids')\n",
    "    # Возьмём эти залайканные фильмы отсортерованные по времени\n",
    "    train_likes_df_local = train_likes_df[train_likes_df.user_id.isin(ids)].sort_values(['time'])\n",
    "    films_ids = set(train_likes_df_local.item_id) & set(features.keys())\n",
    "    \n",
    "    print('Start generate data')\n",
    "    # Начинаем генерировать данные:\n",
    "    train_data = []\n",
    "    print('Gen last n films')\n",
    "    # Берём n последних фильмов для каждого пользователя\n",
    "    for _id in ids:\n",
    "        train_data.append(list(train_likes_df_local[train_likes_df_local.user_id == _id].item_id.values))\n",
    "    \n",
    "    random.shuffle(train_data)\n",
    "    samples = int(len(train_data)/100*test_len)*2 #потому что сгенерированной рандомной даты столько же\n",
    "    test = train_data[:samples]\n",
    "    train_data = train_data[samples:]\n",
    "    \n",
    "    # добавляем к ним 1 - это значит, что данные реальные\n",
    "    # А не сгенерированные\n",
    "    train_data = [i + [1] for i in train_data]\n",
    "    print('Create random data')\n",
    "    # Сгенерируем ложные данные для тренировки\n",
    "    # Которые пользователю 'не понравились'\n",
    "    for i in range(0, len(train_data)):\n",
    "        films = []\n",
    "        for i in range(0,n):\n",
    "            films.append(random.choice(list(films_ids)))\n",
    "        train_data.append(films + [0])\n",
    "    train = train_data\n",
    "    print(len(test), len(train))\n",
    "    \n",
    "    print('Get features for train')\n",
    "    # Теперь превратим сборище id в фичи для бинарного классификатора с помощью специальной функции\n",
    "    for row in train:\n",
    "        new_row = []\n",
    "        row_state = row[-1]\n",
    "        new_row += get_features(row[-n-1:-1])\n",
    "        train[train.index(row)] = new_row + [row_state]\n",
    "    \n",
    "    random.shuffle(train)\n",
    "    train_X, train_y = [i[:-1] for i in train], [i[-1] for i in train]\n",
    "    \n",
    "    print('Get features for test')\n",
    "    # Для теста мы будем возращать все фильмы, которые понравились пользователю, как y\n",
    "    # И как x n-1 id последних фильмов\n",
    "    for row in test:\n",
    "        new_row = []\n",
    "        row_state = row[:-n] + [row[-1]]\n",
    "        new_row = row[-n:-1]\n",
    "        test[test.index(row)] = new_row + [row_state]\n",
    "    random.shuffle(test)\n",
    "    \n",
    "    test_X, test_y = [i[:-1] for i in test], [i[-1] for i in test]\n",
    "    \n",
    "    return train_X, train_y, test_X, test_y"
   ]
  },
  {
   "cell_type": "code",
   "execution_count": 18,
   "metadata": {
    "collapsed": false
   },
   "outputs": [
    {
     "name": "stdout",
     "output_type": "stream",
     "text": [
      "Get ids\n",
      "Get films ids\n",
      "Start generate data\n",
      "Gen last n films\n",
      "Create random data\n",
      "1090 3270\n",
      "Get features for train\n",
      "Get features for test\n"
     ]
    }
   ],
   "source": [
    "# Генерируем данные для обучения\n",
    "train_X, train_y, test_X, test_y = create_data(4, 20)"
   ]
  },
  {
   "cell_type": "code",
   "execution_count": 19,
   "metadata": {
    "collapsed": false
   },
   "outputs": [
    {
     "data": {
      "text/plain": [
       "RandomForestClassifier(bootstrap=True, class_weight=None, criterion='gini',\n",
       "            max_depth=None, max_features='auto', max_leaf_nodes=None,\n",
       "            min_samples_leaf=1, min_samples_split=2,\n",
       "            min_weight_fraction_leaf=0.0, n_estimators=1000, n_jobs=-1,\n",
       "            oob_score=False, random_state=None, verbose=0,\n",
       "            warm_start=False)"
      ]
     },
     "execution_count": 19,
     "metadata": {},
     "output_type": "execute_result"
    }
   ],
   "source": [
    "# Тренеруем модель на данных\n",
    "forest = RandomForestClassifier(n_estimators=1000, n_jobs=-1)\n",
    "forest.fit(train_X, train_y)"
   ]
  },
  {
   "cell_type": "code",
   "execution_count": 20,
   "metadata": {
    "collapsed": false
   },
   "outputs": [],
   "source": [
    "def predict_id(films):\n",
    "    \"\"\"Принимает n-1 предыдущих фильмов - возращает отсортерованные по вероятности фильмы\"\"\"\n",
    "    global forest\n",
    "    to_predict = []\n",
    "    # Берём все id фильмов\n",
    "    films_ids = set(train_likes_df.item_id) & set(features.keys())\n",
    "    # Для каждого id берём фичи совместно с тем, что нам уже пришло и кладём в массив\n",
    "    for film in films_ids:\n",
    "        to_predict.append(get_features(films + [film]))\n",
    "    # Предсказываем и берём вероятность того, что нам понравится\n",
    "    predicted = list(map(lambda a: a[1], forest.predict_proba(to_predict)))\n",
    "    # Сопоставляем id фильмов с предсказаниями\n",
    "    predicted = dict(zip(films_ids, predicted))\n",
    "    # Counter для удобства\n",
    "    predicted = Counter(predicted)\n",
    "    # Выдаём id отсортерованные по вероятности\n",
    "    return [i[0] for i in predicted.most_common()]"
   ]
  },
  {
   "cell_type": "code",
   "execution_count": 27,
   "metadata": {
    "collapsed": false
   },
   "outputs": [
    {
     "name": "stdout",
     "output_type": "stream",
     "text": [
      "10 / 1090 0.209813797314\n",
      "20 / 1090 0.328205758587\n",
      "30 / 1090 0.308363758223\n",
      "40 / 1090 0.320656398291\n",
      "50 / 1090 0.341556984513\n",
      "60 / 1090 0.322312569135\n",
      "70 / 1090 0.308804875327\n",
      "80 / 1090 0.298728554404\n",
      "90 / 1090 0.287287903999\n",
      "100 / 1090 0.269785321825\n",
      "110 / 1090 0.283963344171\n",
      "120 / 1090 0.304809799998\n",
      "130 / 1090 0.288644661047\n",
      "140 / 1090 0.281058622835\n",
      "150 / 1090 0.269007246452\n",
      "160 / 1090 0.269832764143\n",
      "170 / 1090 0.257927208385\n",
      "180 / 1090 0.273545800095\n",
      "190 / 1090 0.284236892217\n",
      "200 / 1090 0.276873159079\n",
      "210 / 1090 0.282633135519\n",
      "220 / 1090 0.282376881177\n",
      "230 / 1090 0.280720448777\n",
      "240 / 1090 0.277374763801\n",
      "250 / 1090 0.276051490245\n",
      "260 / 1090 0.273085690423\n",
      "270 / 1090 0.269767007928\n",
      "280 / 1090 0.267726724587\n",
      "290 / 1090 0.260323297327\n",
      "300 / 1090 0.262389703555\n",
      "310 / 1090 0.258223524214\n",
      "320 / 1090 0.259846164925\n",
      "330 / 1090 0.265288979554\n",
      "340 / 1090 0.271160028885\n",
      "350 / 1090 0.276095753504\n",
      "360 / 1090 0.278828097309\n",
      "370 / 1090 0.280128160359\n",
      "380 / 1090 0.277149932476\n",
      "390 / 1090 0.277625710203\n",
      "400 / 1090 0.273595495098\n",
      "410 / 1090 0.269785058159\n",
      "420 / 1090 0.274684380545\n",
      "430 / 1090 0.275760791608\n",
      "440 / 1090 0.273215592939\n",
      "450 / 1090 0.275528972047\n",
      "460 / 1090 0.275576636599\n",
      "470 / 1090 0.276479155262\n",
      "480 / 1090 0.275088255234\n",
      "490 / 1090 0.28029231325\n",
      "500 / 1090 0.282854743773\n",
      "510 / 1090 0.282987618268\n",
      "520 / 1090 0.285124835871\n",
      "530 / 1090 0.287101005787\n",
      "540 / 1090 0.289222008343\n",
      "550 / 1090 0.292574892531\n",
      "560 / 1090 0.292544057074\n",
      "570 / 1090 0.294941660689\n",
      "580 / 1090 0.293127408452\n",
      "590 / 1090 0.292190885397\n",
      "600 / 1090 0.290958026411\n",
      "610 / 1090 0.291170317682\n",
      "620 / 1090 0.291694401582\n",
      "630 / 1090 0.292155721099\n",
      "640 / 1090 0.294914399223\n",
      "650 / 1090 0.292702925317\n",
      "660 / 1090 0.293909206249\n",
      "670 / 1090 0.295638078912\n",
      "680 / 1090 0.297455630795\n",
      "690 / 1090 0.298698524403\n",
      "700 / 1090 0.299171882902\n",
      "710 / 1090 0.29922254857\n",
      "720 / 1090 0.301078930292\n",
      "730 / 1090 0.300477741926\n",
      "740 / 1090 0.301138174006\n",
      "750 / 1090 0.301817237104\n",
      "760 / 1090 0.299698017745\n",
      "770 / 1090 0.29973139873\n",
      "780 / 1090 0.29958556835\n",
      "790 / 1090 0.299802058823\n",
      "800 / 1090 0.299229809665\n",
      "810 / 1090 0.298411365753\n",
      "820 / 1090 0.299015011821\n",
      "830 / 1090 0.299447620801\n",
      "840 / 1090 0.299181560124\n",
      "850 / 1090 0.2974257668\n",
      "860 / 1090 0.29598629152\n",
      "870 / 1090 0.296470255461\n",
      "880 / 1090 0.297328180319\n",
      "890 / 1090 0.296983281403\n",
      "900 / 1090 0.296129990905\n",
      "910 / 1090 0.296454390497\n",
      "920 / 1090 0.29742201948\n",
      "930 / 1090 0.297928997754\n",
      "940 / 1090 0.296465175079\n",
      "950 / 1090 0.298493205074\n",
      "960 / 1090 0.299403401517\n",
      "970 / 1090 0.298966354767\n",
      "980 / 1090 0.298395808357\n",
      "990 / 1090 0.300070026647\n",
      "1000 / 1090 0.301204506353\n",
      "1010 / 1090 0.302700099468\n",
      "1020 / 1090 0.303606702428\n",
      "1030 / 1090 0.303290092578\n",
      "1040 / 1090 0.303581866519\n",
      "1050 / 1090 0.303609654122\n",
      "1060 / 1090 0.303895909154\n",
      "1070 / 1090 0.304911810842\n",
      "1080 / 1090 0.304551384657\n",
      "1090 / 1090 0.303802264708\n"
     ]
    }
   ],
   "source": [
    "# Сюда будем класть значения\n",
    "apks = []\n",
    "a = 0\n",
    "b = len(test_y)\n",
    "# Пройдёмся по всей выборке\n",
    "for films, answer in zip(test_X, test_y):\n",
    "    a+=1\n",
    "    # На каждом 10-том будем выдавать статус\n",
    "    if a%10 == 0: print(a,'/',b,np.mean(apks))\n",
    "    # И сохраняем apk\n",
    "    apks.append(apk(answer, predict_id(films), len(answer)))"
   ]
  },
  {
   "cell_type": "code",
   "execution_count": 22,
   "metadata": {
    "collapsed": false
   },
   "outputs": [
    {
     "data": {
      "text/plain": [
       "0.39579879212983188"
      ]
     },
     "execution_count": 22,
     "metadata": {},
     "output_type": "execute_result"
    }
   ],
   "source": [
    "# Посмотрим MAP@K\n",
    "np.mean(apks)"
   ]
  },
  {
   "cell_type": "code",
   "execution_count": 23,
   "metadata": {
    "collapsed": false
   },
   "outputs": [
    {
     "data": {
      "text/plain": [
       "<Container object of 1090 artists>"
      ]
     },
     "execution_count": 23,
     "metadata": {},
     "output_type": "execute_result"
    },
    {
     "data": {
      "image/png": "[encoded data removed]",
      "text/plain": [
       "<matplotlib.figure.Figure at 0x7fea5e5150f0>"
      ]
     },
     "metadata": {},
     "output_type": "display_data"
    }
   ],
   "source": [
    "# А теперь вместо среднего, посмотрим, 'пульс' предсказания\n",
    "# AP@K по y оси\n",
    "plt.bar(range(len(apks)), apks)"
   ]
  },
  {
   "cell_type": "markdown",
   "metadata": {},
   "source": [
    "Эта картинка означает, что некоторым пользователям мы порекомендуем очень хорошо, а некоторым так себе.\n",
    "Чем меньше спусков на графике тем лучше."
   ]
  },
  {
   "cell_type": "markdown",
   "metadata": {},
   "source": [
    "Теперь напишем функции для рекомендации."
   ]
  },
  {
   "cell_type": "code",
   "execution_count": 24,
   "metadata": {
    "collapsed": false
   },
   "outputs": [],
   "source": [
    "# Возьмём все id людей, которые пролайкали минимум n фильмов\n",
    "ids = [i for i, count in Counter(train_likes_df.user_id).most_common() if count >= 3]\n",
    "# Возьмём эти залайканные фильмы отсортерованные по времени\n",
    "train_likes_df_local = train_likes_df[train_likes_df.user_id.isin(ids)].sort_values(['time'])\n",
    "films_ids = set(train_likes_df_local.item_id) & set(features.keys())\n",
    "    \n",
    "def recomend(user, film = None, n = 3):\n",
    "    '''На входе принемаем id пользоваетля и текущий фильм.'''\n",
    "    if user not in ids:\n",
    "        return [i[0] for i in Counter(train_likes_df.item_id.values).most_common(n)]\n",
    "    \n",
    "    if not film:\n",
    "        train_data = list(train_likes_df_local[train_likes_df_local.user_id == user].item_id.values)[-3:]\n",
    "    else:\n",
    "        train_data = list(train_likes_df_local[train_likes_df_local.user_id == user].item_id.values)[-2:]\n",
    "        train_data.append(film)\n",
    "    return predict_id(train_data)[:n]\n",
    "    \n",
    "    "
   ]
  },
  {
   "cell_type": "code",
   "execution_count": 25,
   "metadata": {
    "collapsed": false
   },
   "outputs": [
    {
     "data": {
      "text/plain": [
       "['e803ab6454973242a1cf4043cb947531',\n",
       " '5527fe23e4b1ebce7307d0528c0f38df',\n",
       " 'b513db7287f1b585a7cffc82251e0219']"
      ]
     },
     "execution_count": 25,
     "metadata": {},
     "output_type": "execute_result"
    }
   ],
   "source": [
    "# Пользователь смотрит фильм, рекомендуем с учетом фильма\n",
    "recomend('1e774f168d8523095b6a1b31e7c31ff4', '6b295d5430ca0c223ac21057336f9e1d', 3)"
   ]
  },
  {
   "cell_type": "code",
   "execution_count": 26,
   "metadata": {
    "collapsed": false
   },
   "outputs": [
    {
     "data": {
      "text/plain": [
       "['1effb78d80bd8fc7d4cab1161a34b255',\n",
       " '3b20b13ad11626b0205e0230d62ba57f',\n",
       " '6522dece07a6885ff28e11e0f3babf8b']"
      ]
     },
     "execution_count": 26,
     "metadata": {},
     "output_type": "execute_result"
    }
   ],
   "source": [
    "# Пользователя нет, фильма нет =)\n",
    "recomend('1e774f168d8523095b6a1b31e7c31ff4')"
   ]
  }
 ],
 "metadata": {
  "kernelspec": {
   "display_name": "Python 3",
   "language": "python",
   "name": "python3"
  },
  "language_info": {
   "codemirror_mode": {
    "name": "ipython",
    "version": 3
   },
   "file_extension": ".py",
   "mimetype": "text/x-python",
   "name": "python",
   "nbconvert_exporter": "python",
   "pygments_lexer": "ipython3",
   "version": "3.5.1"
  }
 },
 "nbformat": 4,
 "nbformat_minor": 0
}
