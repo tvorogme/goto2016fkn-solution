{
 "cells": [
  {
   "cell_type": "markdown",
   "metadata": {},
   "source": [
    "### Just imports"
   ]
  },
  {
   "cell_type": "code",
   "execution_count": 1,
   "metadata": {
    "collapsed": true
   },
   "outputs": [],
   "source": [
    "import pandas as pd\n",
    "from collections import Counter\n",
    "import json"
   ]
  },
  {
   "cell_type": "code",
   "execution_count": 2,
   "metadata": {
    "collapsed": false
   },
   "outputs": [],
   "source": [
    "train_likes_df = pd.read_csv('train_likes.csv')"
   ]
  },
  {
   "cell_type": "code",
   "execution_count": 3,
   "metadata": {
    "collapsed": false
   },
   "outputs": [],
   "source": [
    "# Фичи\n",
    "with open('items.json') as f:\n",
    "    items_dicts = json.load(f)"
   ]
  },
  {
   "cell_type": "code",
   "execution_count": 4,
   "metadata": {
    "collapsed": false
   },
   "outputs": [],
   "source": [
    "# Преобразуем фичи в {id: features} из [{},{}]\n",
    "from collections import defaultdict\n",
    "features = defaultdict(lambda: None)\n",
    "for item in items_dicts:\n",
    "    features_item = item.copy()\n",
    "    del features_item['id']\n",
    "    features[item['id']] = features_item"
   ]
  },
  {
   "cell_type": "markdown",
   "metadata": {},
   "source": [
    "# Задача 2"
   ]
  },
  {
   "cell_type": "markdown",
   "metadata": {},
   "source": [
    "Для начала вычислите сумму лайков для каждого жанра и отдельно - для фильмов, где жанр неизвестен.\n",
    "Далее вычислите такую же сумму лайков по жанрам для каждого из топ-10 самых залайканных каналов."
   ]
  },
  {
   "cell_type": "code",
   "execution_count": 11,
   "metadata": {
    "collapsed": false
   },
   "outputs": [
    {
     "data": {
      "text/plain": [
       "[('1f0e3dad99908345f7439f8ffabdffc4', 8348),\n",
       " ('c74d97b01eae257e44aa9d5bade97baf', 8057),\n",
       " ('98f13708210194c475687be6106a3b84', 6079),\n",
       " ('1ff1de774005f8da13f42943881c655f', 5853),\n",
       " ('70efdf2ec9b086079795c442636b55fb', 4619),\n",
       " ('c0c7c76d30bd3dcaefc96f40275bdc0a', 3257),\n",
       " ('f90f2aca5c640289d0a29417bcb63a37', 3037),\n",
       " ('6f4922f45568161a8cdf4ad2299f6d23', 2925),\n",
       " ('4e732ced3463d06de0ca9a15b6153677', 2528),\n",
       " ('5c936263f3428a40227908d5a3847c0b', 2483)]"
      ]
     },
     "execution_count": 11,
     "metadata": {},
     "output_type": "execute_result"
    }
   ],
   "source": [
    "Counter(train_likes_df.channel.values).most_common(10)"
   ]
  },
  {
   "cell_type": "markdown",
   "metadata": {},
   "source": [
    "Всё решение можно записать в одну строчку, однако для удобства восприятия я разбил всё на lambda функции с кратким пояснением о каждой"
   ]
  },
  {
   "cell_type": "code",
   "execution_count": 5,
   "metadata": {
    "collapsed": true
   },
   "outputs": [],
   "source": [
    "f = lambda _id: features[_id]['genre'] if features[_id] != None else None\n",
    "g = lambda data: Counter(list(map(lambda _id: f(_id) if f(_id) != None else 'Нет жанра', data))) # Count genre in data"
   ]
  },
  {
   "cell_type": "code",
   "execution_count": 6,
   "metadata": {
    "collapsed": true
   },
   "outputs": [],
   "source": [
    "output = []\n",
    "names = ['По всей выборке']"
   ]
  },
  {
   "cell_type": "code",
   "execution_count": 7,
   "metadata": {
    "collapsed": false
   },
   "outputs": [],
   "source": [
    "output.append(dict(g(train_likes_df.item_id.values))) # Use * data"
   ]
  },
  {
   "cell_type": "code",
   "execution_count": 8,
   "metadata": {
    "collapsed": false
   },
   "outputs": [],
   "source": [
    "for channel in Counter(train_likes_df.channel.values).most_common(10):\n",
    "    names.append(channel[0])\n",
    "    output.append(dict(g(train_likes_df[train_likes_df.channel == channel[0]].item_id.values))) # use special data"
   ]
  },
  {
   "cell_type": "markdown",
   "metadata": {},
   "source": [
    "\n",
    "\n",
    "\n",
    "\n",
    "# Для удобства ответ выведем в PD"
   ]
  },
  {
   "cell_type": "code",
   "execution_count": 9,
   "metadata": {
    "collapsed": false
   },
   "outputs": [],
   "source": [
    "output_pd = {}\n",
    "\n",
    "for i in list(range(0,10))+['Нет жанра']:\n",
    "    output_pd[i]=[]\n",
    "\n",
    "for dic in output:\n",
    "    for i in list(range(0,10))+['Нет жанра']:\n",
    "        output_pd[i].append(dic[i] if i in dic.keys() else 0)\n",
    "\n",
    "output_pd = pd.DataFrame.from_dict((output_pd))\n",
    "output_pd['Chanel id'] = names"
   ]
  },
  {
   "cell_type": "code",
   "execution_count": 10,
   "metadata": {
    "collapsed": false
   },
   "outputs": [
    {
     "data": {
      "text/html": [
       "<div>\n",
       "<table border=\"1\" class=\"dataframe\">\n",
       "  <thead>\n",
       "    <tr style=\"text-align: right;\">\n",
       "      <th></th>\n",
       "      <th>0</th>\n",
       "      <th>1</th>\n",
       "      <th>2</th>\n",
       "      <th>3</th>\n",
       "      <th>4</th>\n",
       "      <th>5</th>\n",
       "      <th>6</th>\n",
       "      <th>7</th>\n",
       "      <th>8</th>\n",
       "      <th>9</th>\n",
       "      <th>Нет жанра</th>\n",
       "      <th>Chanel id</th>\n",
       "    </tr>\n",
       "  </thead>\n",
       "  <tbody>\n",
       "    <tr>\n",
       "      <th>0</th>\n",
       "      <td>14007</td>\n",
       "      <td>28151</td>\n",
       "      <td>14237</td>\n",
       "      <td>5231</td>\n",
       "      <td>2494</td>\n",
       "      <td>6543</td>\n",
       "      <td>4383</td>\n",
       "      <td>1167</td>\n",
       "      <td>27</td>\n",
       "      <td>0</td>\n",
       "      <td>35011</td>\n",
       "      <td>По всей выборке</td>\n",
       "    </tr>\n",
       "    <tr>\n",
       "      <th>1</th>\n",
       "      <td>1138</td>\n",
       "      <td>2913</td>\n",
       "      <td>1750</td>\n",
       "      <td>0</td>\n",
       "      <td>13</td>\n",
       "      <td>0</td>\n",
       "      <td>487</td>\n",
       "      <td>0</td>\n",
       "      <td>0</td>\n",
       "      <td>0</td>\n",
       "      <td>2047</td>\n",
       "      <td>1f0e3dad99908345f7439f8ffabdffc4</td>\n",
       "    </tr>\n",
       "    <tr>\n",
       "      <th>2</th>\n",
       "      <td>2364</td>\n",
       "      <td>1689</td>\n",
       "      <td>873</td>\n",
       "      <td>496</td>\n",
       "      <td>366</td>\n",
       "      <td>209</td>\n",
       "      <td>13</td>\n",
       "      <td>0</td>\n",
       "      <td>0</td>\n",
       "      <td>0</td>\n",
       "      <td>2047</td>\n",
       "      <td>c74d97b01eae257e44aa9d5bade97baf</td>\n",
       "    </tr>\n",
       "    <tr>\n",
       "      <th>3</th>\n",
       "      <td>1882</td>\n",
       "      <td>1256</td>\n",
       "      <td>1806</td>\n",
       "      <td>3</td>\n",
       "      <td>6</td>\n",
       "      <td>0</td>\n",
       "      <td>46</td>\n",
       "      <td>0</td>\n",
       "      <td>1</td>\n",
       "      <td>0</td>\n",
       "      <td>1079</td>\n",
       "      <td>98f13708210194c475687be6106a3b84</td>\n",
       "    </tr>\n",
       "    <tr>\n",
       "      <th>4</th>\n",
       "      <td>73</td>\n",
       "      <td>157</td>\n",
       "      <td>23</td>\n",
       "      <td>111</td>\n",
       "      <td>70</td>\n",
       "      <td>3500</td>\n",
       "      <td>0</td>\n",
       "      <td>0</td>\n",
       "      <td>0</td>\n",
       "      <td>0</td>\n",
       "      <td>1919</td>\n",
       "      <td>1ff1de774005f8da13f42943881c655f</td>\n",
       "    </tr>\n",
       "    <tr>\n",
       "      <th>5</th>\n",
       "      <td>684</td>\n",
       "      <td>99</td>\n",
       "      <td>494</td>\n",
       "      <td>332</td>\n",
       "      <td>213</td>\n",
       "      <td>29</td>\n",
       "      <td>0</td>\n",
       "      <td>0</td>\n",
       "      <td>0</td>\n",
       "      <td>0</td>\n",
       "      <td>2768</td>\n",
       "      <td>70efdf2ec9b086079795c442636b55fb</td>\n",
       "    </tr>\n",
       "    <tr>\n",
       "      <th>6</th>\n",
       "      <td>50</td>\n",
       "      <td>391</td>\n",
       "      <td>315</td>\n",
       "      <td>0</td>\n",
       "      <td>12</td>\n",
       "      <td>0</td>\n",
       "      <td>1095</td>\n",
       "      <td>0</td>\n",
       "      <td>0</td>\n",
       "      <td>0</td>\n",
       "      <td>1394</td>\n",
       "      <td>c0c7c76d30bd3dcaefc96f40275bdc0a</td>\n",
       "    </tr>\n",
       "    <tr>\n",
       "      <th>7</th>\n",
       "      <td>507</td>\n",
       "      <td>281</td>\n",
       "      <td>76</td>\n",
       "      <td>71</td>\n",
       "      <td>0</td>\n",
       "      <td>0</td>\n",
       "      <td>13</td>\n",
       "      <td>0</td>\n",
       "      <td>21</td>\n",
       "      <td>0</td>\n",
       "      <td>2068</td>\n",
       "      <td>f90f2aca5c640289d0a29417bcb63a37</td>\n",
       "    </tr>\n",
       "    <tr>\n",
       "      <th>8</th>\n",
       "      <td>334</td>\n",
       "      <td>380</td>\n",
       "      <td>472</td>\n",
       "      <td>200</td>\n",
       "      <td>257</td>\n",
       "      <td>4</td>\n",
       "      <td>29</td>\n",
       "      <td>0</td>\n",
       "      <td>0</td>\n",
       "      <td>0</td>\n",
       "      <td>1249</td>\n",
       "      <td>6f4922f45568161a8cdf4ad2299f6d23</td>\n",
       "    </tr>\n",
       "    <tr>\n",
       "      <th>9</th>\n",
       "      <td>31</td>\n",
       "      <td>1198</td>\n",
       "      <td>282</td>\n",
       "      <td>124</td>\n",
       "      <td>13</td>\n",
       "      <td>0</td>\n",
       "      <td>3</td>\n",
       "      <td>0</td>\n",
       "      <td>0</td>\n",
       "      <td>0</td>\n",
       "      <td>877</td>\n",
       "      <td>4e732ced3463d06de0ca9a15b6153677</td>\n",
       "    </tr>\n",
       "    <tr>\n",
       "      <th>10</th>\n",
       "      <td>1187</td>\n",
       "      <td>546</td>\n",
       "      <td>380</td>\n",
       "      <td>4</td>\n",
       "      <td>0</td>\n",
       "      <td>0</td>\n",
       "      <td>6</td>\n",
       "      <td>0</td>\n",
       "      <td>0</td>\n",
       "      <td>0</td>\n",
       "      <td>360</td>\n",
       "      <td>5c936263f3428a40227908d5a3847c0b</td>\n",
       "    </tr>\n",
       "  </tbody>\n",
       "</table>\n",
       "</div>"
      ],
      "text/plain": [
       "        0      1      2     3     4     5     6     7   8  9  Нет жанра  \\\n",
       "0   14007  28151  14237  5231  2494  6543  4383  1167  27  0      35011   \n",
       "1    1138   2913   1750     0    13     0   487     0   0  0       2047   \n",
       "2    2364   1689    873   496   366   209    13     0   0  0       2047   \n",
       "3    1882   1256   1806     3     6     0    46     0   1  0       1079   \n",
       "4      73    157     23   111    70  3500     0     0   0  0       1919   \n",
       "5     684     99    494   332   213    29     0     0   0  0       2768   \n",
       "6      50    391    315     0    12     0  1095     0   0  0       1394   \n",
       "7     507    281     76    71     0     0    13     0  21  0       2068   \n",
       "8     334    380    472   200   257     4    29     0   0  0       1249   \n",
       "9      31   1198    282   124    13     0     3     0   0  0        877   \n",
       "10   1187    546    380     4     0     0     6     0   0  0        360   \n",
       "\n",
       "                           Chanel id  \n",
       "0                    По всей выборке  \n",
       "1   1f0e3dad99908345f7439f8ffabdffc4  \n",
       "2   c74d97b01eae257e44aa9d5bade97baf  \n",
       "3   98f13708210194c475687be6106a3b84  \n",
       "4   1ff1de774005f8da13f42943881c655f  \n",
       "5   70efdf2ec9b086079795c442636b55fb  \n",
       "6   c0c7c76d30bd3dcaefc96f40275bdc0a  \n",
       "7   f90f2aca5c640289d0a29417bcb63a37  \n",
       "8   6f4922f45568161a8cdf4ad2299f6d23  \n",
       "9   4e732ced3463d06de0ca9a15b6153677  \n",
       "10  5c936263f3428a40227908d5a3847c0b  "
      ]
     },
     "execution_count": 10,
     "metadata": {},
     "output_type": "execute_result"
    }
   ],
   "source": [
    "output_pd"
   ]
  }
 ],
 "metadata": {
  "kernelspec": {
   "display_name": "Python 3",
   "language": "python",
   "name": "python3"
  },
  "language_info": {
   "codemirror_mode": {
    "name": "ipython",
    "version": 3
   },
   "file_extension": ".py",
   "mimetype": "text/x-python",
   "name": "python",
   "nbconvert_exporter": "python",
   "pygments_lexer": "ipython3",
   "version": "3.5.1"
  }
 },
 "nbformat": 4,
 "nbformat_minor": 0
}
